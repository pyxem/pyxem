{
 "cells": [
  {
   "cell_type": "markdown",
   "metadata": {},
   "source": [
    "# Fast template matching\n",
    "\n",
    "### Background\n",
    "\n",
    "This notebook describes how the new accelerated orientation mapping facilities in Pyxem can be used.\n",
    "Orientation mapping with template matching is illustrated in [example 02](https://github.com/pyxem/pyxem-demos/blob/master/02%20GaAs%20Nanowire%20-%20Phase%20Mapping%20-%20Orientation%20Mapping.ipynb) but that example concerns a small dataset with the orientations very close to zone axis, which doesn't require large template libraries.\n",
    "In this implementation, the template library samples $SO(3)$ (all of Euler space) and subsequently compares all templates to the experimental patterns.\n",
    "Sampling all of Euler space requires a very large template library, on the order of 300000, in order to ensure a maximum of about 2$^\\circ$ between orientations.\n",
    "In the general case where we don't have any information about the orientations, this requires both a long time to calculate the template library and to index the dataset.\n",
    "\n",
    "The \"fast\" approach aims to mimic ideas in commercial template matching codes like ASTAR. \n",
    "The goal here is that real 4D-STEM datasets containing arbitrary orientations can be indexed in reasonable time.\n",
    "To achieve this, template libraries are simulated by sampling $S^2$ (the surface of the sphere) instead, which represents all possible beam directions relative to the crystal.\n",
    "The euler angle that represents the in-plane rotation is constrained to 0.\n",
    "Removing one degree of freedom drastically limits the size of the library.\n",
    "The in-plane rotation angle is found during the indexation process by matching the templates to the images in polar coordinates.\n",
    "This is also a computationally demanding task but it can be substantially parallelized.\n",
    "**If you have large 4D-STEM/NBED dataset of real samples with unknown orientations you should consider following this example**.\n",
    "\n",
    "### Structure\n",
    "\n",
    "1. <a href=\"#load\">Load, inspect, calibrate data</a>\n",
    "2. <a href=\"#pre\">Preprocess images</a>\n",
    "3. <a href=\"#sim\">Build template library</a>\n",
    "4. <a href=\"#index\">Perform indexation</a>\n",
    "    * <a href=\"#1p1t\">One pattern, one template</a>\n",
    "    * <a href=\"#1pmt\">One pattern, many templates</a>\n",
    "    * <a href=\"#mpmt\">Many patterns, many templates</a>"
   ]
  },
  {
   "cell_type": "code",
   "execution_count": null,
   "metadata": {},
   "outputs": [],
   "source": [
    "%matplotlib notebook"
   ]
  },
  {
   "cell_type": "code",
   "execution_count": null,
   "metadata": {},
   "outputs": [],
   "source": [
    "import numpy as np\n",
    "import matplotlib.pyplot as plt\n",
    "import hyperspy.api as hs"
   ]
  },
  {
   "cell_type": "markdown",
   "metadata": {},
   "source": [
    "# <a id=\"load\"></a> 1. Load, inspect, calibrate data"
   ]
  },
  {
   "cell_type": "code",
   "execution_count": null,
   "metadata": {},
   "outputs": [],
   "source": [
    "experimental_data = hs.load(\"data/sample_with_g.hspy\", lazy=True)\n",
    "experimental_data"
   ]
  },
  {
   "cell_type": "markdown",
   "metadata": {},
   "source": [
    "### Centering the dataset"
   ]
  },
  {
   "cell_type": "code",
   "execution_count": null,
   "metadata": {},
   "outputs": [],
   "source": [
    "experimental_data.center_direct_beam(method=\"blur\", half_square_width=50, sigma=1.5)"
   ]
  },
  {
   "cell_type": "markdown",
   "metadata": {},
   "source": [
    "### Affine transformation\n",
    "There is some projector astigmatism in this dataset which must be corrected for prior to indexation. The entries of the affine transformation matrix were obtained through manual iteration to ensure that the spots that were recognized fit well."
   ]
  },
  {
   "cell_type": "code",
   "execution_count": null,
   "metadata": {},
   "outputs": [],
   "source": [
    "# Define the affine transform matrices obtained from manual iteration to see what fits templates best\n",
    "# An automated way to optimize the affine transformation matrix is under construction\n",
    "matrix_transfo = np.array([[ 0.93356802, -0.04315628,  0.        ],\n",
    "                           [-0.02749365,  0.96883687,  0.        ],\n",
    "                           [ 0.        ,  0.        ,  1.        ]])\n",
    "\n",
    "experimental_data = experimental_data.apply_affine_transformation(matrix_transfo)"
   ]
  },
  {
   "cell_type": "markdown",
   "metadata": {},
   "source": [
    "### Scale calibration\n",
    "To find out the pixel calibration of the images, we calibrate it based on the known distance of some diffraction spots.\n",
    "In this case we draw a profile through the $\\{220\\}$ reflections of the austenite phase, of which we know the distance in reciprocal space."
   ]
  },
  {
   "cell_type": "code",
   "execution_count": null,
   "metadata": {},
   "outputs": [],
   "source": [
    "experimental_data.set_diffraction_calibration(1)"
   ]
  },
  {
   "cell_type": "code",
   "execution_count": null,
   "metadata": {},
   "outputs": [],
   "source": [
    "from hyperspy.roi import Line2DROI\n",
    "\n",
    "# a line profile accross known diffraction spots\n",
    "x1 = -7.47\n",
    "x2 = 8.63\n",
    "y1 = -74.63\n",
    "y2 = 70.83\n",
    "line = Line2DROI(x1=x1, y1=y1, x2=x2, y2=y2, linewidth=5)\n",
    "\n",
    "image1 = experimental_data.inav[0, 0]\n",
    "image1.plot(cmap=\"viridis\", vmax=0.02)\n",
    "plt.plot([x1, x2], [y1, y2], c = \"red\")"
   ]
  },
  {
   "cell_type": "code",
   "execution_count": null,
   "metadata": {},
   "outputs": [],
   "source": [
    "plt.close()"
   ]
  },
  {
   "cell_type": "code",
   "execution_count": null,
   "metadata": {},
   "outputs": [],
   "source": [
    "trace = line(image1).as_signal1D(0)\n",
    "trace.plot(norm=\"log\")"
   ]
  },
  {
   "cell_type": "code",
   "execution_count": null,
   "metadata": {},
   "outputs": [],
   "source": [
    "plt.close()"
   ]
  },
  {
   "cell_type": "code",
   "execution_count": null,
   "metadata": {},
   "outputs": [],
   "source": [
    "trace = np.log(trace)"
   ]
  },
  {
   "cell_type": "code",
   "execution_count": null,
   "metadata": {},
   "outputs": [],
   "source": [
    "import scipy.signal as sps\n",
    "sps.find_peaks(trace.data)"
   ]
  },
  {
   "cell_type": "code",
   "execution_count": null,
   "metadata": {},
   "outputs": [],
   "source": [
    "# the number of pixels center to 022 peak\n",
    "dist_002_pixels = (135 - 15)/2\n",
    "# the distance in 1/A of the 022 peak\n",
    "g_dist = np.sqrt(8)/3.59\n",
    "diffraction_calibration = g_dist/dist_002_pixels\n",
    "print(diffraction_calibration)"
   ]
  },
  {
   "cell_type": "code",
   "execution_count": null,
   "metadata": {},
   "outputs": [],
   "source": [
    "experimental_data.set_diffraction_calibration(diffraction_calibration)"
   ]
  },
  {
   "cell_type": "markdown",
   "metadata": {},
   "source": [
    "# <a id=\"pre\"></a> 2. Image processing\n",
    "We apply some basic image filtering on the images to make the template matching result more \"smooth\"."
   ]
  },
  {
   "cell_type": "code",
   "execution_count": null,
   "metadata": {},
   "outputs": [],
   "source": [
    "from skimage import filters\n",
    "\n",
    "# Set values lower than a specific value to 0 in the image\n",
    "def crop_minimum(image, minimum=0.0005):\n",
    "    copied = image.copy()\n",
    "    copied[copied <= minimum] = 0.\n",
    "    return copied"
   ]
  },
  {
   "cell_type": "code",
   "execution_count": null,
   "metadata": {},
   "outputs": [],
   "source": [
    "# difference of gaussians serves to remove the background intensity\n",
    "procdat = experimental_data.subtract_diffraction_background(method=\"difference of gaussians\",\n",
    "                                                            min_sigma=3,\n",
    "                                                            max_sigma=8, )\n",
    "# smooth out the output\n",
    "procdat = procdat.map(filters.gaussian, sigma=0.5, inplace=False)\n",
    "# remove low intensities\n",
    "procdat = procdat.map(crop_minimum, minimum = 0.0005, inplace=False)"
   ]
  },
  {
   "cell_type": "code",
   "execution_count": null,
   "metadata": {},
   "outputs": [],
   "source": [
    "# to get access to the functions of electron diffraction patterns\n",
    "procdat.set_signal_type(signal_type=\"electron_diffraction\")"
   ]
  },
  {
   "cell_type": "code",
   "execution_count": null,
   "metadata": {},
   "outputs": [],
   "source": [
    "plt.imshow(procdat.inav[0,0].data, vmin=0, vmax=0.03)"
   ]
  },
  {
   "cell_type": "code",
   "execution_count": null,
   "metadata": {},
   "outputs": [],
   "source": [
    "plt.close()"
   ]
  },
  {
   "cell_type": "code",
   "execution_count": null,
   "metadata": {},
   "outputs": [],
   "source": [
    "experimental_data = procdat"
   ]
  },
  {
   "cell_type": "markdown",
   "metadata": {},
   "source": [
    "# <a id=\"sim\"></a> 3. Simulate template library\n",
    "\n",
    "The `get_beam_directions_grid` function will sample $S^2$ to get the beam directions where we want to simulate patterns.\n",
    "\n",
    "In the cell below, decrease `resolution` to increase the finesse of the grid. Note that the number of templates will increase in an approximately inverse squared way as this value is decreased."
   ]
  },
  {
   "cell_type": "code",
   "execution_count": null,
   "metadata": {},
   "outputs": [],
   "source": [
    "from diffsims.generators.rotation_list_generators import get_beam_directions_grid\n",
    "resolution = 1.5 # maximum angle in degrees between nearest templates. Pretty rough grid for speed.\n",
    "grid_cub = get_beam_directions_grid(\"cubic\", resolution, mesh=\"spherified_cube_edge\")\n",
    "print(\"Number of patterns: \", grid_cub.shape[0])"
   ]
  },
  {
   "cell_type": "code",
   "execution_count": null,
   "metadata": {},
   "outputs": [],
   "source": [
    "# this cell serves to visualize the grid of orientations in stereographic projection\n",
    "\n",
    "# a helper function for turning the euler angle grid to a grid of points in the stereographic projection\n",
    "def grid_to_xy(grid):\n",
    "    from orix.quaternion.rotation import Rotation\n",
    "    from orix.vector.vector3d import Vector3d\n",
    "    from orix.projections import StereographicProjection\n",
    "    s = StereographicProjection(pole=-1)\n",
    "    rotations_regular =  Rotation.from_euler(np.deg2rad(grid))\n",
    "    rot_reg_test = rotations_regular*Vector3d.zvector()\n",
    "    x, y = s.vector2xy(rot_reg_test)\n",
    "    return x, y\n",
    "\n",
    "fig, ax1 = plt.subplots(1, figsize=(5, 5))\n",
    "ax1.scatter(*grid_to_xy(grid_cub), s = 1)\n",
    "ax1.set_xlim(-0.1, 0.5)\n",
    "ax1.set_ylim(-0.1, 0.5)"
   ]
  },
  {
   "cell_type": "code",
   "execution_count": null,
   "metadata": {},
   "outputs": [],
   "source": [
    "plt.close()"
   ]
  },
  {
   "cell_type": "markdown",
   "metadata": {},
   "source": [
    "Here we simulate the actual library using diffsims."
   ]
  },
  {
   "cell_type": "code",
   "execution_count": null,
   "metadata": {},
   "outputs": [],
   "source": [
    "import diffpy\n",
    "from diffsims.libraries.structure_library import StructureLibrary\n",
    "from diffsims.generators.diffraction_generator import DiffractionGenerator\n",
    "from diffsims.generators.library_generator import DiffractionLibraryGenerator"
   ]
  },
  {
   "cell_type": "code",
   "execution_count": null,
   "metadata": {},
   "outputs": [],
   "source": [
    "# Parameters necessary for simulating a template library\n",
    "\n",
    "# half size of the images\n",
    "half_shape = (experimental_data.data.shape[-2]//2, experimental_data.data.shape[-1]//2)\n",
    "# maximum radius in reciprocal space to calculate spot intensities for\n",
    "reciprocal_radius = np.sqrt(half_shape[0]**2 + half_shape[1]**2)*diffraction_calibration"
   ]
  },
  {
   "cell_type": "code",
   "execution_count": null,
   "metadata": {},
   "outputs": [],
   "source": [
    "# importing the structure\n",
    "structure_matrix = diffpy.structure.loadStructure(\"data/austeniteLP.cif\")\n",
    "\n",
    "# \"The microscope = the parameters that determine how the templates are calculated\"\n",
    "diff_gen = DiffractionGenerator(accelerating_voltage=200,\n",
    "                                precession_angle=0,\n",
    "                                scattering_params=None,\n",
    "                                shape_factor_model=\"linear\",\n",
    "                                minimum_intensity=0.1,\n",
    "                                )\n",
    "\n",
    "lib_gen = DiffractionLibraryGenerator(diff_gen)\n",
    "\n",
    "# Generating a library\n",
    "# \"Library of structures and orientations\"\n",
    "library_phases_fe = StructureLibrary([\"fe\"], [structure_matrix], [grid_cub])\n",
    "# Calculate the actual library\n",
    "\n",
    "diff_lib_fe = lib_gen.get_diffraction_library(library_phases_fe,\n",
    "                                           calibration=diffraction_calibration,\n",
    "                                           reciprocal_radius=reciprocal_radius,\n",
    "                                           half_shape=half_shape,\n",
    "                                           with_direct_beam=False,\n",
    "                                           max_excitation_error=0.07)"
   ]
  },
  {
   "cell_type": "markdown",
   "metadata": {},
   "source": [
    "# <a id=\"index\"></a> 4. Index results\n",
    "Here we illustrate how we can actually compare the templates to the experimental patterns"
   ]
  },
  {
   "cell_type": "code",
   "execution_count": null,
   "metadata": {},
   "outputs": [],
   "source": [
    "from pyxem.utils import indexation_utils as iutls\n",
    "from pyxem.utils import plotting_utils as putls\n",
    "from pyxem.utils import polar_transform_utils as ptutls\n",
    "from pyxem.utils import expt_utils as eutls"
   ]
  },
  {
   "cell_type": "markdown",
   "metadata": {},
   "source": [
    "### <a id=\"1p1t\"></a> Single pattern and single template\n",
    "If one has a single diffraction pattern and a single template, the goal is to find the in-plane angle, or the correlation at each in-plane angle."
   ]
  },
  {
   "cell_type": "code",
   "execution_count": null,
   "metadata": {},
   "outputs": [],
   "source": [
    "# pull out a random image and simulation\n",
    "image = experimental_data.inav[0,0].data\n",
    "simulation_test = diff_lib_fe[\"fe\"][\"simulations\"][-1]\n",
    "\n",
    "# for completeness in the illustration, all keyword arguments are given and explained\n",
    "# an array of angles and corresponding correlation values are returned\n",
    "a, c = iutls.get_in_plane_rotation_correlation(\n",
    "    image,\n",
    "    simulation_test,\n",
    "    intensity_transform_function=None,  # a function applied both to the image and template intensities before calculating the correlation\n",
    "    delta_r = 1,                        # sampling in the radial direction\n",
    "    delta_theta = 0.1,                  # sampling in the azimuthal direction\n",
    "    max_r = None,                       # maximum radius to consider, by default the distance from the center to the corner\n",
    "    find_direct_beam = True,            # convenience, if the pattern was not centered, this will perform a rough centering\n",
    "    direct_beam_position = None,        # manually provide the coordinates of the direct beam\n",
    "    normalize_image=True,               # divide the correlation by the norm of the image\n",
    "    normalize_template=True,            # divide the correlation by the norm of the template\n",
    ")\n",
    "\n",
    "fig, ax = plt.subplots()\n",
    "ax.plot(a, c)\n",
    "ax.set_xlim(0, 360)\n",
    "ax.set_xlabel(\"Angular shift (Degrees)\")\n",
    "ax.set_ylabel(\"Correlation\")"
   ]
  },
  {
   "cell_type": "code",
   "execution_count": null,
   "metadata": {},
   "outputs": [],
   "source": [
    "plt.close()"
   ]
  },
  {
   "cell_type": "code",
   "execution_count": null,
   "metadata": {},
   "outputs": [],
   "source": [
    "# again a convenience function implemented as sanity check\n",
    "putls.plot_template_over_pattern(image,\n",
    "                                 simulation_test,\n",
    "                                 in_plane_angle=a[np.argmax(c)],\n",
    "                                 coordinate_system = \"cartesian\", \n",
    "                                 size_factor = 10,\n",
    "                                 vmax=0.02, \n",
    "                                 max_r = 200,\n",
    "                                 find_direct_beam=True,\n",
    "                                 cmap = \"inferno\"\n",
    "                                )"
   ]
  },
  {
   "cell_type": "code",
   "execution_count": null,
   "metadata": {},
   "outputs": [],
   "source": [
    "plt.close()"
   ]
  },
  {
   "cell_type": "markdown",
   "metadata": {},
   "source": [
    "### <a id=\"1pmt\"></a> Single pattern, multiple templates\n",
    "Sometimes one has a single pattern and wants to compare it to an entire template library."
   ]
  },
  {
   "cell_type": "code",
   "execution_count": null,
   "metadata": {},
   "outputs": [],
   "source": [
    "simulations = diff_lib_fe[\"fe\"][\"simulations\"]\n",
    "\n",
    "# these arguments are the same as before, for convenience we define them here\n",
    "delta_r = 1\n",
    "delta_theta = 1 \n",
    "max_r = None\n",
    "intensity_transform_function = None\n",
    "find_direct_beam = True\n",
    "direct_beam_position = None\n",
    "normalize_image = True\n",
    "normalize_templates = True"
   ]
  },
  {
   "cell_type": "markdown",
   "metadata": {},
   "source": [
    "In the following function we only calculate the match between a radially integrated image and radially integrated templates.\n",
    "This is very fast but it is no longer possible to find out the in-plane angle of best fit, only a correlation value is returned for each template."
   ]
  },
  {
   "cell_type": "code",
   "execution_count": null,
   "metadata": {},
   "outputs": [],
   "source": [
    "fast_cors = iutls.correlate_library_to_pattern_fast(\n",
    "    image, simulations, delta_r, delta_theta, max_r, intensity_transform_function, find_direct_beam,\n",
    "    direct_beam_position, normalize_image, normalize_templates,\n",
    ")"
   ]
  },
  {
   "cell_type": "markdown",
   "metadata": {},
   "source": [
    "To find out the (in-plane) angle of best fit, we must do a full correlation matching.\n",
    "We can slightly speed up the calculation by only performing a full correlation on templates that have a good correlation index in the fast approach.\n",
    "The `frac_keep` and `n_keep` parameters determine how many patterns are fully indexed.\n",
    "They both do the same thing, but with the former the number of templates to retain is specified as a fractional value between (0, 1], and the latter is just an integer on the interval [1, N] with N the number of templates in the library."
   ]
  },
  {
   "cell_type": "code",
   "execution_count": null,
   "metadata": {},
   "outputs": [],
   "source": [
    "frac_keep = 0.8 \n",
    "n_keep = None\n",
    "\n",
    "# if frac_keep < 1 or 1 < n_keep < number of templates then indexation will be performed on the\n",
    "# templates in \"indexes\" that have the highest \"fast\" correlation\n",
    "indexes, angles, corrs, angles_m, corrs_m = iutls.correlate_library_to_pattern(\n",
    "    image, simulations, frac_keep, n_keep, delta_r, delta_theta, max_r,\n",
    "    intensity_transform_function, find_direct_beam, direct_beam_position,\n",
    "    normalize_image, normalize_templates,\n",
    ")"
   ]
  },
  {
   "cell_type": "markdown",
   "metadata": {},
   "source": [
    "What is returned are the indexes of retaines templates, the angles of best fit, the correlation of the templates, but also the angle of best fit for the mirrored template and the correlation for this mirrored template.\n",
    "This is because sometimes you want to know how well the 180 degree ambiguity is resolved. Below we plot all these results on the stereographic axes.\n",
    "You can see that if we reduce `frac_keep` or increase `n_keep` there are \"holes\" in the stereogram for bad matching templates that were not considered."
   ]
  },
  {
   "cell_type": "code",
   "execution_count": null,
   "metadata": {},
   "outputs": [],
   "source": [
    "fig, ax = plt.subplots(ncols = 3, nrows = 2, figsize = (10, 6))\n",
    "\n",
    "x, y = grid_to_xy(grid_cub)\n",
    "\n",
    "ax = ax.ravel()\n",
    "for i in ax:\n",
    "    i.set_xlim(-0.05, 0.45)\n",
    "    i.set_ylim(-0.05, 0.4)\n",
    "    i.axis(\"off\")\n",
    "    i.set_aspect(\"equal\")\n",
    "    \n",
    "s = 10\n",
    "\n",
    "# to ensure the same color scale on mirror and non-mirror\n",
    "all_cors = np.stack([corrs, corrs_m])\n",
    "vmin = all_cors.min()\n",
    "vmax = all_cors.max()\n",
    "\n",
    "ax[0].scatter(x[indexes], y[indexes], s = s, c = corrs, cmap = \"inferno\", vmin = vmin, vmax = vmax)\n",
    "ax[0].set_title(\"Correlations\")\n",
    "ax[1].scatter(x[indexes], y[indexes], s = s, c = corrs_m, cmap = \"inferno\", vmin = vmin, vmax = vmax)\n",
    "ax[1].set_title(\"Mirrored correlations\")\n",
    "ax[2].scatter(x, y, s = s, c = fast_cors, cmap = \"inferno\")\n",
    "ax[2].set_title(\"Fast_correlation\")\n",
    "ax[3].scatter(x[indexes], y[indexes], s = s, c = angles, cmap = \"hsv\")\n",
    "ax[3].set_title(\"Angles\")\n",
    "ax[4].scatter(x[indexes], y[indexes], s = s, c = angles_m, cmap = \"hsv\")\n",
    "ax[4].set_title(\"Mirrored angles\")"
   ]
  },
  {
   "cell_type": "code",
   "execution_count": null,
   "metadata": {},
   "outputs": [],
   "source": [
    "plt.close()"
   ]
  },
  {
   "cell_type": "markdown",
   "metadata": {},
   "source": [
    "It is easy to find the maximum of the returned correlations for each template to index the pattern, but there is also the shorthand function `get_n_best_matches` to find the `n` best matches ordered in descending order of correlation index."
   ]
  },
  {
   "cell_type": "code",
   "execution_count": null,
   "metadata": {},
   "outputs": [],
   "source": [
    "# The number of best answers to return, not to be confused with n_keep!\n",
    "n_best = 5\n",
    "indices_n, angles_n, correlations_n, signs_n = iutls.get_n_best_matches(image,\n",
    "                                                 simulations,\n",
    "                                                 n_best,\n",
    "                                                 frac_keep,\n",
    "                                                 n_keep,\n",
    "                                                 delta_r,\n",
    "                                                 delta_theta,\n",
    "                                                 max_r,\n",
    "                                                 intensity_transform_function,\n",
    "                                                 find_direct_beam,\n",
    "                                                 direct_beam_position,\n",
    "                                                 normalize_image,\n",
    "                                                 normalize_templates,\n",
    "                                                )"
   ]
  },
  {
   "cell_type": "markdown",
   "metadata": {},
   "source": [
    "Returned are the indices of the best matching templates, the best fit in-plane angles, the best correlations, and the \"signs\" which refers to whether the normal pattern (1) or the mirrored pattern (-1) best fits the experiment.\n",
    "In this case (see in the stereograms above) the mirrored templates are not as good of a match. Below we plot the best solutions on top of the correlation stereogram."
   ]
  },
  {
   "cell_type": "code",
   "execution_count": null,
   "metadata": {},
   "outputs": [],
   "source": [
    "fig, ax = plt.subplots(figsize = (5, 5))\n",
    "ax.set_aspect(\"equal\")\n",
    "ax.scatter(x[indexes], y[indexes], s = 50, c = corrs, cmap = \"Greys_r\", vmin = vmin, vmax = vmax)\n",
    "for j, i in enumerate(indices_n):\n",
    "    ax.scatter(x[i], y[i], s = s*5, label = f\"{j}: {correlations_n[j]}\")\n",
    "ax.legend()"
   ]
  },
  {
   "cell_type": "code",
   "execution_count": null,
   "metadata": {},
   "outputs": [],
   "source": [
    "plt.close()"
   ]
  },
  {
   "cell_type": "markdown",
   "metadata": {},
   "source": [
    "We can also verify what the best matching pattern actually looks like as shown below"
   ]
  },
  {
   "cell_type": "code",
   "execution_count": null,
   "metadata": {},
   "outputs": [],
   "source": [
    "# signs will be 1 for the upper triangle, -1 for the lower triangle\n",
    "mirrored = signs_n[0] == -1\n",
    "putls.plot_template_over_pattern(image,\n",
    "                                 simulations[indices_n[0]],\n",
    "                                 in_plane_angle=angles_n[0],\n",
    "                                 coordinate_system = \"cartesian\", \n",
    "                                 size_factor = 10,\n",
    "                                 vmax=0.01, \n",
    "                                 max_r = 200,\n",
    "                                 mirrored_template=mirrored,\n",
    "                                 find_direct_beam=True,\n",
    "                                 cmap = \"inferno\"\n",
    "                                )"
   ]
  },
  {
   "cell_type": "code",
   "execution_count": null,
   "metadata": {},
   "outputs": [],
   "source": [
    "plt.close()"
   ]
  },
  {
   "cell_type": "markdown",
   "metadata": {},
   "source": [
    "### <a id=\"mpmt\"></a> Many patterns and many templates\n",
    "This is when one wants to index an entire dataset. Since this can still take quite some time on large datasets, it is recommended to always check a few patterns individually first to see whether image processing, template simulation, and comparison parameters are adequately set."
   ]
  },
  {
   "cell_type": "code",
   "execution_count": null,
   "metadata": {},
   "outputs": [],
   "source": [
    "# let's not throw away any templates prematurely and perform a full calculation on all\n",
    "frac_keep = 1 \n",
    "\n",
    "result, phasedict = iutls.index_dataset_with_template_rotation(experimental_data,\n",
    "                                                    diff_lib_fe,\n",
    "                                                    phases = [\"fe\"],  # if we have multiple phases we can also specify which ones we want to consider. If it's not specified, all phases are used.\n",
    "                                                    n_best = n_best,\n",
    "                                                    frac_keep = frac_keep,\n",
    "                                                    n_keep = n_keep,\n",
    "                                                    delta_r = delta_r,\n",
    "                                                    delta_theta = delta_theta,\n",
    "                                                    max_r = 115,\n",
    "                                                    intensity_transform_function=intensity_transform_function,\n",
    "                                                    normalize_images = normalize_image,\n",
    "                                                    normalize_templates=normalize_templates,\n",
    "                                                    )"
   ]
  },
  {
   "cell_type": "markdown",
   "metadata": {},
   "source": [
    "The structure of the result:\n",
    "* **phase_index**: if there are multiple phases in the phase library, an integer representing which phase best fits. `phasedict` that is returned maps the integer to the string key that can be used to index into the original template library.\n",
    "* **template_index**: which index in the template library of that phase fits best\n",
    "* **orientation**: euler angles of the solution(s)\n",
    "* **correlation**: correlation index of the solution(s)\n",
    "* **mirrored_template**: wether the solution(s) template should be flipped over the x axis or not. Only relevant when you want to directly compare patterns to templates and you don't want to re-simulate the templates. It can also be valuable to check whether the solutions are consistently chosing one of the mirror options (e.g. a grain is fully `True`), or whether the solution is ambiguous (e.g. a grain fluctuates strongly between `True` and `False`).\n",
    "\n",
    "All have shape `(scan_y, scan_x, n_best)` except orientations has shape `(scan_y, scan_x, n_best, 3)`. So to get the map of the best solution, index into the arrays with `[:,:,0, ...]`. The next best solution use `1` etc."
   ]
  },
  {
   "cell_type": "code",
   "execution_count": null,
   "metadata": {},
   "outputs": [],
   "source": [
    "result.keys()"
   ]
  },
  {
   "cell_type": "code",
   "execution_count": null,
   "metadata": {},
   "outputs": [],
   "source": [
    "result[\"phase_index\"].shape"
   ]
  },
  {
   "cell_type": "markdown",
   "metadata": {},
   "source": [
    "To visualize the data, we plot IPF's. Below is a somewhat ad-hoc solution; a more general solution for visualizing IPF's is under development in orix."
   ]
  },
  {
   "cell_type": "code",
   "execution_count": null,
   "metadata": {},
   "outputs": [],
   "source": [
    "solution = result[\"orientation\"]\n",
    "\n",
    "import matplotlib.colors as mcolors\n",
    "from orix.projections import StereographicProjection\n",
    "\n",
    "# map a vector onto the fundamental zone of the cube\n",
    "def to_fundamental(data_sol):\n",
    "    data_sol = np.abs(data_sol)\n",
    "    data_sol = np.sort(data_sol, axis=-1)\n",
    "    column = data_sol[...,0].copy()\n",
    "    data_sol[..., 0] = data_sol[...,1]\n",
    "    data_sol[..., 1] = column\n",
    "    return data_sol\n",
    "\n",
    "\n",
    "def get_ipf_color(vectors):\n",
    "    # the following column vectors should map onto R [100], G [010], B[001], i.e. the identity. So the inverse of \n",
    "    # this matrix maps the beam directions onto the right color vector\n",
    "    color_corners = np.array([[0, 1, 1],\n",
    "                              [0, 0, 1],\n",
    "                              [1, 1, 1]])\n",
    "    color_mapper = np.linalg.inv(color_corners)\n",
    "    # a bit of wrangling\n",
    "    data_sol = to_fundamental(vectors.data)\n",
    "    flattened = data_sol.reshape(np.product(data_sol.shape[:-1]), 3).T\n",
    "    rgb_mapped = np.dot(color_mapper, flattened)\n",
    "    rgb_mapped = np.abs(rgb_mapped / rgb_mapped.max(axis=0)).T\n",
    "    rgb_mapped = rgb_mapped.reshape(data_sol.shape)\n",
    "    return rgb_mapped\n",
    "    \n",
    "    \n",
    "from orix.quaternion.rotation import Rotation\n",
    "from orix.vector.vector3d import Vector3d\n",
    "\n",
    "# draw IPF - Z (row 1), IPF - Y (row 2), IPF - Z (row 3)\n",
    "fig, ax = plt.subplots(ncols = solution.shape[2], nrows = 3, figsize = (10, 6))\n",
    "\n",
    "for i in range(solution.shape[2]):\n",
    "    solution_vectors_z = Rotation.from_euler(np.deg2rad(solution[:,:,i,:]))*Vector3d.zvector()    \n",
    "    solution_vectors_y = Rotation.from_euler(np.deg2rad(solution[:,:,i,:]))*Vector3d.yvector()    \n",
    "    solution_vectors_x = Rotation.from_euler(np.deg2rad(solution[:,:,i,:]))*Vector3d.xvector()    \n",
    "    ax[0, i].set_title(f\"Solution {i}\")\n",
    "    ax[0, i].imshow(get_ipf_color(solution_vectors_z))\n",
    "    ax[1, i].imshow(get_ipf_color(solution_vectors_y))\n",
    "    ax[2, i].imshow(get_ipf_color(solution_vectors_x))\n",
    "\n",
    "ax[0,0].set_ylabel(\"IPF-Z\")\n",
    "ax[1,0].set_ylabel(\"IPF-Y\")\n",
    "ax[2,0].set_ylabel(\"IPF-X\")\n",
    "\n",
    "fig.tight_layout()"
   ]
  },
  {
   "cell_type": "code",
   "execution_count": null,
   "metadata": {},
   "outputs": [],
   "source": [
    "plt.close()"
   ]
  },
  {
   "cell_type": "markdown",
   "metadata": {},
   "source": [
    "We can also now use the solution to check individual solutions"
   ]
  },
  {
   "cell_type": "code",
   "execution_count": null,
   "metadata": {},
   "outputs": [],
   "source": [
    "# scan coordinate to check\n",
    "px = 20\n",
    "py = 15\n",
    "# which solution to plot\n",
    "n_sol = 0\n",
    "\n",
    "# query the necessary info from the solution\n",
    "sim_sol_index = result[\"template_index\"][py, px, n_sol]\n",
    "mirrored_sol = result[\"mirrored_template\"][py, px, n_sol]\n",
    "in_plane_angle = result[\"orientation\"][py, px, n_sol, 0] #! NOTE: the first angle is the in plane angle!\n",
    "# query the appropriate template\n",
    "sim_sol = simulations[sim_sol_index]\n",
    "\n",
    "fig, ax = plt.subplots(ncols=2, figsize=(8, 4))\n",
    "\n",
    "# calculating and plotting the IPF\n",
    "solution_vectors_y = Rotation.from_euler(np.deg2rad(solution[:,:,n_sol,...]))*Vector3d.yvector()\n",
    "ax[0].imshow(get_ipf_color(solution_vectors_y))\n",
    "# plotting the point we chose\n",
    "ax[0].scatter([px], [py], c=\"black\", s=50)\n",
    "\n",
    "# plotting the diffraction pattern and template\n",
    "putls.plot_template_over_pattern(experimental_data.inav[px, py].data,\n",
    "                                 sim_sol,\n",
    "                                 ax=ax[1],\n",
    "                                 in_plane_angle=in_plane_angle,\n",
    "                                 coordinate_system = \"cartesian\", \n",
    "                                 size_factor = 10,\n",
    "                                 vmax=0.02, \n",
    "                                 max_r = 200,\n",
    "                                 mirrored_template=mirrored_sol,\n",
    "                                 find_direct_beam=True,\n",
    "                                 cmap = \"inferno\",\n",
    "                                 marker_color = \"green\"\n",
    "                                )\n",
    "for i in ax:\n",
    "    i.axis(\"off\")"
   ]
  },
  {
   "cell_type": "code",
   "execution_count": null,
   "metadata": {},
   "outputs": [],
   "source": [
    "plt.close()"
   ]
  },
  {
   "cell_type": "markdown",
   "metadata": {},
   "source": [
    "Some patterns may be incorrectly indexed. The template matching method can be sensitive to small modifications in the image processing parameters and simulation parameters. Consider extracting the individual images that give rise to problems and plot the correlation index stereographic triangles to figure out what is going wrong in those patterns and iterate."
   ]
  },
  {
   "cell_type": "code",
   "execution_count": null,
   "metadata": {},
   "outputs": [],
   "source": []
  }
 ],
 "metadata": {
  "kernelspec": {
   "display_name": "Python 3",
   "language": "python",
   "name": "python3"
  },
  "language_info": {
   "codemirror_mode": {
    "name": "ipython",
    "version": 3
   },
   "file_extension": ".py",
   "mimetype": "text/x-python",
   "name": "python",
   "nbconvert_exporter": "python",
   "pygments_lexer": "ipython3",
   "version": "3.7.3"
  }
 },
 "nbformat": 4,
 "nbformat_minor": 4
}
