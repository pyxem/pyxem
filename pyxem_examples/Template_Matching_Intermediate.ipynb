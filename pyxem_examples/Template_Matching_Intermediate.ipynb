{
 "cells": [
  {
   "cell_type": "code",
   "execution_count": 158,
   "metadata": {
    "collapsed": false
   },
   "outputs": [],
   "source": [
    "%matplotlib tk\n",
    "import numpy as np\n",
    "import hyperspy.api as hs\n",
    "import pyxem as pxm\n",
    "import pymatgen as pmg\n",
    "from matplotlib import pyplot as plt\n",
    "from transforms3d.euler import euler2axangle\n",
    "from pymatgen.transformations.standard_transformations import RotationTransformation\n",
    "from pyxem.generators.indexation_generator import IndexationGenerator\n",
    "from pyxem.utils.sim_utils import peaks_from_best_template\n",
    "from pyxem.utils.plot import generate_marker_inputs_from_peaks\n",
    "from scipy.constants import pi"
   ]
  },
  {
   "cell_type": "markdown",
   "metadata": {},
   "source": [
    "First we set up two crystal structures"
   ]
  },
  {
   "cell_type": "code",
   "execution_count": 159,
   "metadata": {
    "collapsed": true
   },
   "outputs": [],
   "source": [
    "lattice = pmg.Lattice.cubic(5.431)\n",
    "si = pmg.Structure.from_spacegroup(\"Fd-3m\",lattice, [pmg.Element(\"Si\")], [[0, 0, 0]])"
   ]
  },
  {
   "cell_type": "code",
   "execution_count": 160,
   "metadata": {
    "collapsed": true
   },
   "outputs": [],
   "source": [
    "lattice = pmg.Lattice.hexagonal(3,5)\n",
    "ga = pmg.Structure.from_spacegroup(\"P6_3mc\",lattice, [pmg.Element(\"Ga\")], [[0, 0, 0]])"
   ]
  },
  {
   "cell_type": "markdown",
   "metadata": {},
   "source": [
    "And some simulation paramaters"
   ]
  },
  {
   "cell_type": "code",
   "execution_count": 161,
   "metadata": {
    "collapsed": true
   },
   "outputs": [],
   "source": [
    "size = 256 #pattern size in pixels\n",
    "radius=1.2 #reciprocal radius\n",
    "ediff = pxm.DiffractionGenerator(300., 0.025) #eV and relrod size"
   ]
  },
  {
   "cell_type": "markdown",
   "metadata": {},
   "source": [
    "We now create 4 seperate patterns, 2 for each crystal, one at 0deg and one at 45deg"
   ]
  },
  {
   "cell_type": "code",
   "execution_count": 162,
   "metadata": {
    "collapsed": true
   },
   "outputs": [],
   "source": [
    "\n",
    "thetas = [0,45]"
   ]
  },
  {
   "cell_type": "code",
   "execution_count": null,
   "metadata": {
    "collapsed": true
   },
   "outputs": [],
   "source": []
  },
  {
   "cell_type": "code",
   "execution_count": 163,
   "metadata": {
    "collapsed": true
   },
   "outputs": [],
   "source": [
    "def create_pattern(rot,sample):\n",
    "    # This functions needs global variables size,radius and ediff (see 2 boxes up)\n",
    "    transformed = rot.apply_transformation(sample)\n",
    "    diff_data   = ediff.calculate_ed_data(transformed,radius)\n",
    "    return diff_data.as_signal(size,0.05,radius).data"
   ]
  },
  {
   "cell_type": "code",
   "execution_count": 164,
   "metadata": {
    "collapsed": false
   },
   "outputs": [],
   "source": [
    "data_silicon = []\n",
    "data_gallium = []\n",
    "for theta in [0,pi/4]:\n",
    "    axis, angle = euler2axangle(0,0,theta, 'rzxz') #using axis angle to avoid ambiguity\n",
    "    rot = RotationTransformation(axis, angle,angle_in_radians=True)\n",
    "    data_silicon.append(create_pattern(rot,si))\n",
    "    data_gallium.append(create_pattern(rot,ga))\n",
    "    \n",
    "data = [data_silicon] + [data_gallium]\n",
    "test_data = pxm.ElectronDiffraction(data)\n",
    "test_data.set_calibration(radius/128)"
   ]
  },
  {
   "cell_type": "markdown",
   "metadata": {},
   "source": [
    "test_data now contains the 4 patterns we will attempt to match to, we move onto creating a library"
   ]
  },
  {
   "cell_type": "code",
   "execution_count": 165,
   "metadata": {
    "collapsed": true
   },
   "outputs": [],
   "source": [
    "rot_list = []\n",
    "for theta in np.linspace(0,(pi/3),100): #rotations between 0 and 60 deg\n",
    "    rot_list.append((theta, 0., 0.))    #needs to be a tuple"
   ]
  },
  {
   "cell_type": "code",
   "execution_count": 166,
   "metadata": {
    "collapsed": true
   },
   "outputs": [],
   "source": [
    "struc_lib = dict()\n",
    "struc_lib['si'] = (si, rot_list)\n",
    "struc_lib['ga'] = (ga,rot_list)"
   ]
  },
  {
   "cell_type": "code",
   "execution_count": 167,
   "metadata": {
    "collapsed": false
   },
   "outputs": [
    {
     "name": "stderr",
     "output_type": "stream",
     "text": []
    }
   ],
   "source": [
    "diff_gen = pxm.DiffractionLibraryGenerator(ediff)\n",
    "library = diff_gen.get_diffraction_library(struc_lib,\n",
    "                                            calibration=1.2/128,\n",
    "                                            reciprocal_radius=radius,\n",
    "                                            representation='euler',\n",
    "                                            half_shape=(256/2,256/2),\n",
    "                                            with_direct_beam=False)"
   ]
  },
  {
   "cell_type": "markdown",
   "metadata": {},
   "source": [
    "which we correlate with the test data"
   ]
  },
  {
   "cell_type": "code",
   "execution_count": 168,
   "metadata": {
    "collapsed": false
   },
   "outputs": [
    {
     "data": {
      "application/vnd.jupyter.widget-view+json": {
       "model_id": "a2228b5d9d01476ca7a9803588459f80",
       "version_major": 2,
       "version_minor": 0
      },
      "text/plain": [
       "A Jupyter Widget"
      ]
     },
     "metadata": {},
     "output_type": "display_data"
    }
   ],
   "source": [
    "indexer = IndexationGenerator(test_data, library)\n",
    "phase=[\"si\",\"ga\"] \n",
    "match_results = indexer.correlate(n_largest=1,keys=phase)"
   ]
  },
  {
   "cell_type": "markdown",
   "metadata": {},
   "source": [
    "This is the \"best\" result for each setup, column 1 refers to the phase (0 for Si and 1 for Ga), column 2 the z angle, and then 2 and 3 the x and second z angle with 5 being the correlation score"
   ]
  },
  {
   "cell_type": "code",
   "execution_count": 169,
   "metadata": {
    "collapsed": false
   },
   "outputs": [
    {
     "data": {
      "text/plain": [
       "array([[[[ 0.        ,  0.        ,  0.        ,  0.        ,  0.19532511],\n",
       "         [ 1.        ,  0.        ,  0.        ,  0.        ,  0.00781312]],\n",
       "\n",
       "        [[ 0.        ,  0.78275373,  0.        ,  0.        ,  0.19232197],\n",
       "         [ 1.        ,  0.77217597,  0.        ,  0.        ,  0.00802111]]],\n",
       "\n",
       "\n",
       "       [[[ 0.        ,  0.        ,  0.        ,  0.        ,  0.02606217],\n",
       "         [ 1.        ,  0.01057775,  0.        ,  0.        ,  0.68666427]],\n",
       "\n",
       "        [[ 0.        ,  0.77217597,  0.        ,  0.        ,  0.02556211],\n",
       "         [ 1.        ,  0.78275373,  0.        ,  0.        ,  0.69474166]]]])"
      ]
     },
     "execution_count": 169,
     "metadata": {},
     "output_type": "execute_result"
    }
   ],
   "source": [
    "match_results.data"
   ]
  },
  {
   "cell_type": "markdown",
   "metadata": {},
   "source": [
    "Which we can also plot"
   ]
  },
  {
   "cell_type": "code",
   "execution_count": 170,
   "metadata": {
    "collapsed": false
   },
   "outputs": [
    {
     "data": {
      "application/vnd.jupyter.widget-view+json": {
       "model_id": "f65283cab58d4ad1b25cb9a70ec6cc5e",
       "version_major": 2,
       "version_minor": 0
      },
      "text/plain": [
       "A Jupyter Widget"
      ]
     },
     "metadata": {},
     "output_type": "display_data"
    }
   ],
   "source": [
    "peaks= match_results.map(peaks_from_best_template,phase=phase,library=library,inplace=False)\n",
    "mmx,mmy = generate_marker_inputs_from_peaks(peaks)\n",
    "test_data.plot(cmap='viridis') \n",
    "for mx,my in zip(mmx,mmy):\n",
    "    m = hs.markers.point(x=mx,y=my,color='red',marker='x')\n",
    "    test_data.add_marker(m,plot_marker=True,permanent=True)"
   ]
  }
 ],
 "metadata": {
  "anaconda-cloud": {},
  "kernelspec": {
   "display_name": "Python [py36]",
   "language": "python",
   "name": "Python [py36]"
  },
  "language_info": {
   "codemirror_mode": {
    "name": "ipython",
    "version": 3
   },
   "file_extension": ".py",
   "mimetype": "text/x-python",
   "name": "python",
   "nbconvert_exporter": "python",
   "pygments_lexer": "ipython3",
   "version": "3.6.3"
  }
 },
 "nbformat": 4,
 "nbformat_minor": 2
}
