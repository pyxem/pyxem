{
 "cells": [
  {
   "cell_type": "code",
   "execution_count": 2,
   "metadata": {},
   "outputs": [],
   "source": [
    "%matplotlib tk\n",
    "import numpy as np\n",
    "import hyperspy.api as hs\n",
    "import pyxem as pxm\n",
    "import pymatgen as pmg\n",
    "from matplotlib import pyplot as plt\n",
    "from pymatgen.transformations.standard_transformations import RotationTransformation\n",
    "from pyxem.generators.indexation_generator import IndexationGenerator\n",
    "from pyxem.utils.sim_utils import peaks_from_best_template\n",
    "from pyxem.utils.plot import generate_marker_inputs_from_peaks\n",
    "from scipy.constants import pi"
   ]
  },
  {
   "cell_type": "code",
   "execution_count": 3,
   "metadata": {},
   "outputs": [],
   "source": [
    "%load_ext autoreload\n",
    "%autoreload 2"
   ]
  },
  {
   "cell_type": "code",
   "execution_count": 4,
   "metadata": {
    "collapsed": true
   },
   "outputs": [],
   "source": [
    "si = pmg.Element(\"Si\")\n",
    "lattice = pmg.Lattice.cubic(5.431)\n",
    "silicon = pmg.Structure.from_spacegroup(\"Fd-3m\",lattice, [si], [[0, 0, 0]])\n",
    "\n",
    "ga = pmg.Element(\"Ga\")\n",
    "lattice = pmg.Lattice.hexagonal(1.531,5)\n",
    "gall = pmg.Structure.from_spacegroup(\"P6_3mc\",lattice, [ga], [[0, 0, 0]])"
   ]
  },
  {
   "cell_type": "code",
   "execution_count": 6,
   "metadata": {},
   "outputs": [],
   "source": [
    "size = 256\n",
    "radius=1.5\n",
    "ediff = pxm.DiffractionGenerator(300., 0.025)\n",
    "\n",
    "rotaxis = [0, 0, 1]\n",
    "thetas = np.arange(0, 46, 45)\n",
    "\n",
    "data_silicon = []\n",
    "data_gall = []\n",
    "for theta in thetas:\n",
    "    rot = RotationTransformation(rotaxis, theta)\n",
    "    sieg,garr = rot.apply_transformation(silicon),rot.apply_transformation(gall)\n",
    "    diff_dat_s,diff_dat_g = ediff.calculate_ed_data(sieg, radius),ediff.calculate_ed_data(garr, radius)\n",
    "    dpi_s     ,dpi_g      = diff_dat_s.as_signal(256, 0.05, 1.2), diff_dat_g.as_signal(256, 0.05, 1.2)\n",
    "    data_silicon.append(dpi_s.data)\n",
    "    data_gall.append(dpi_g.data)\n",
    "    \n",
    "data = [data_silicon] + [data_gall]\n",
    "test_data = pxm.ElectronDiffraction(data)\n",
    "test_data.set_calibration(1.2/128)"
   ]
  },
  {
   "cell_type": "code",
   "execution_count": 7,
   "metadata": {
    "collapsed": true
   },
   "outputs": [],
   "source": [
    "rot_list = []\n",
    "nstep=119\n",
    "for i in np.arange(nstep):\n",
    "    theta = (i*59.5/(nstep-1))/180*pi\n",
    "    rot_list.append((theta, 0., 0.))"
   ]
  },
  {
   "cell_type": "code",
   "execution_count": 24,
   "metadata": {},
   "outputs": [
    {
     "name": "stderr",
     "output_type": "stream",
     "text": [
      "                                                  \r"
     ]
    }
   ],
   "source": [
    "diff_gen = pxm.DiffractionLibraryGenerator(ediff)\n",
    "struc_lib = dict()\n",
    "struc_lib['si'] = (silicon, rot_list)\n",
    "struc_lib['ga'] = (gall,rot_list)\n",
    "library = diff_gen.get_diffraction_library(struc_lib,\n",
    "                                            calibration=1.2/128,\n",
    "                                            reciprocal_radius=1.1,\n",
    "                                            representation='euler',\n",
    "                                            half_shape=(256/2,256/2),\n",
    "                                            with_direct_beam=False)"
   ]
  },
  {
   "cell_type": "code",
   "execution_count": 25,
   "metadata": {},
   "outputs": [
    {
     "data": {
      "application/vnd.jupyter.widget-view+json": {
       "model_id": "80070396142b40ae945fe0344323e56e",
       "version_major": 2,
       "version_minor": 0
      },
      "text/plain": [
       "A Jupyter Widget"
      ]
     },
     "metadata": {},
     "output_type": "display_data"
    }
   ],
   "source": [
    "indexer = IndexationGenerator(test_data, library)\n",
    "phase=[\"si\",\"ga\"] \n",
    "match_results = indexer.correlate(keys=phase)"
   ]
  },
  {
   "cell_type": "code",
   "execution_count": 26,
   "metadata": {},
   "outputs": [
    {
     "data": {
      "application/vnd.jupyter.widget-view+json": {
       "model_id": "b6d864e1bad44b5b9b500d113e72c927",
       "version_major": 2,
       "version_minor": 0
      },
      "text/plain": [
       "A Jupyter Widget"
      ]
     },
     "metadata": {},
     "output_type": "display_data"
    }
   ],
   "source": [
    "peaks= match_results.map(peaks_from_best_template,phase=phase,library=library,inplace=False)"
   ]
  },
  {
   "cell_type": "code",
   "execution_count": 27,
   "metadata": {
    "collapsed": true
   },
   "outputs": [],
   "source": [
    "mmx,mmy = generate_marker_inputs_from_peaks(peaks)\n",
    "test_data.plot(cmap='viridis') \n",
    "for mx,my in zip(mmx,mmy):\n",
    "    m = hs.markers.point(x=mx,y=my,color='red',marker='x')\n",
    "    test_data.add_marker(m,plot_marker=True,permanent=True)"
   ]
  }
 ],
 "metadata": {
  "anaconda-cloud": {},
  "kernelspec": {
   "display_name": "Python 3",
   "language": "python",
   "name": "python3"
  },
  "language_info": {
   "codemirror_mode": {
    "name": "ipython",
    "version": 3
   },
   "file_extension": ".py",
   "mimetype": "text/x-python",
   "name": "python",
   "nbconvert_exporter": "python",
   "pygments_lexer": "ipython3",
   "version": "3.6.3"
  }
 },
 "nbformat": 4,
 "nbformat_minor": 2
}
